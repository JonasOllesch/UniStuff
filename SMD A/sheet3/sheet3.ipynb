{
 "cells": [
  {
   "cell_type": "code",
   "execution_count": 20,
   "metadata": {},
   "outputs": [],
   "source": [
    "from project_c4.random import LCG\n",
    "import matplotlib.pyplot as plt\n",
    "import numpy as np"
   ]
  },
  {
   "cell_type": "markdown",
   "metadata": {},
   "source": [
    "## Task 1b)"
   ]
  },
  {
   "cell_type": "code",
   "execution_count": 21,
   "metadata": {},
   "outputs": [
    {
     "name": "stdout",
     "output_type": "stream",
     "text": [
      "0   1\n",
      "1   1028\n",
      "3   256\n",
      "4   8\n",
      "5   256\n",
      "7   256\n",
      "8   16\n",
      "9   128\n",
      "11   64\n",
      "12   256\n",
      "13   128\n",
      "15   32\n",
      "16   4\n",
      "17   32\n",
      "19   256\n",
      "20   256\n",
      "21   128\n",
      "23   64\n",
      "24   256\n",
      "25   128\n",
      "27   256\n",
      "28   256\n",
      "29   128\n",
      "31   128\n",
      "32   16\n",
      "33   256\n",
      "35   64\n",
      "36   128\n",
      "37   256\n",
      "39   256\n",
      "40   256\n",
      "41   256\n",
      "43   256\n",
      "44   64\n",
      "45   256\n",
      "47   256\n",
      "48   256\n",
      "49   128\n",
      "51   256\n",
      "52   128\n",
      "53   256\n",
      "55   256\n",
      "56   256\n",
      "57   128\n",
      "59   128\n",
      "60   32\n",
      "61   128\n",
      "63   256\n",
      "64   8\n",
      "65   256\n",
      "67   64\n",
      "68   32\n",
      "69   256\n",
      "71   256\n",
      "72   128\n",
      "73   64\n",
      "75   256\n",
      "76   256\n",
      "77   256\n",
      "79   128\n",
      "80   256\n",
      "81   64\n",
      "83   256\n",
      "84   128\n",
      "85   256\n",
      "87   256\n",
      "88   64\n",
      "89   128\n",
      "91   256\n",
      "92   64\n",
      "93   256\n",
      "95   64\n",
      "96   256\n",
      "97   256\n",
      "99   128\n",
      "Maximum period length:  1028 at a = 1\n"
     ]
    }
   ],
   "source": [
    "x_a = np.arange(100)\n",
    "x_a =  x_a\n",
    "max_period_length = 0\n",
    "for a in x_a:\n",
    "    lcg = LCG(seed=100, a = a, c = 3, m = 1028)\n",
    "    y = lcg.random_raw(5000)\n",
    "    for i in range(1,len(y)):\n",
    "        if y[0] == y[i]:\n",
    "            print(a, ' ',i)\n",
    "            if i > max_period_length:\n",
    "                max_period_length = i\n",
    "                a_max = a\n",
    "            break\n",
    "\n",
    "print('Maximum period length: ', max_period_length, 'at a =', a_max)\n"
   ]
  },
  {
   "cell_type": "markdown",
   "metadata": {},
   "source": [
    "As can be seen above, the maximum period length is identical to $m$ for $a = 1$, if the intervall for a is chosen correctly."
   ]
  },
  {
   "cell_type": "markdown",
   "metadata": {},
   "source": [
    "## Task 1d)"
   ]
  },
  {
   "cell_type": "code",
   "execution_count": 22,
   "metadata": {},
   "outputs": [
    {
     "name": "stdout",
     "output_type": "stream",
     "text": [
      "0.999899849774662\n",
      "0.0\n"
     ]
    },
    {
     "data": {
      "text/plain": [
       "(array([ 96.,  96.,  96., 112.,  96.,  96.,  96., 112.,  96.,  96.,  96.,\n",
       "        112.,  96.,  96.,  96.,  96., 112.,  96.,  96.,  96., 112.,  96.,\n",
       "         96.,  96., 112.,  96.,  96.,  96., 112.,  96.,  96.,  96., 112.,\n",
       "         96.,  96.,  96., 112.,  96.,  96.,  96.,  96., 112.,  96.,  96.,\n",
       "         96., 112.,  96.,  96.,  96., 112.,  96.,  96.,  96., 112.,  96.,\n",
       "         96.,  96., 112.,  96.,  96.,  96., 112.,  96.,  96.,  96., 112.,\n",
       "         96.,  96.,  96.,  96., 112.,  96.,  96.,  96., 112.,  96.,  96.,\n",
       "         96., 112.,  96.,  96.,  96., 112.,  96.,  96.,  96., 112.,  96.,\n",
       "         96.,  96., 112.,  96.,  96.,  96.,  96., 112.,  96.,  96.,  96.]),\n",
       " array([0.005, 0.015, 0.025, 0.035, 0.045, 0.055, 0.065, 0.075, 0.085,\n",
       "        0.095, 0.105, 0.115, 0.125, 0.135, 0.145, 0.155, 0.165, 0.175,\n",
       "        0.185, 0.195, 0.205, 0.215, 0.225, 0.235, 0.245, 0.255, 0.265,\n",
       "        0.275, 0.285, 0.295, 0.305, 0.315, 0.325, 0.335, 0.345, 0.355,\n",
       "        0.365, 0.375, 0.385, 0.395, 0.405, 0.415, 0.425, 0.435, 0.445,\n",
       "        0.455, 0.465, 0.475, 0.485, 0.495, 0.505, 0.515, 0.525, 0.535,\n",
       "        0.545, 0.555, 0.565, 0.575, 0.585, 0.595, 0.605, 0.615, 0.625,\n",
       "        0.635, 0.645, 0.655, 0.665, 0.675, 0.685, 0.695, 0.705, 0.715,\n",
       "        0.725, 0.735, 0.745, 0.755, 0.765, 0.775, 0.785, 0.795, 0.805,\n",
       "        0.815, 0.825, 0.835, 0.845, 0.855, 0.865, 0.875, 0.885, 0.895,\n",
       "        0.905, 0.915, 0.925, 0.935, 0.945, 0.955, 0.965, 0.975, 0.985,\n",
       "        0.995]),\n",
       " <BarContainer object of 99 artists>)"
      ]
     },
     "execution_count": 22,
     "metadata": {},
     "output_type": "execute_result"
    },
    {
     "data": {
      "image/png": "[encoded data removed]",
      "text/plain": [
       "<Figure size 432x288 with 1 Axes>"
      ]
     },
     "metadata": {
      "needs_background": "light"
     },
     "output_type": "display_data"
    }
   ],
   "source": [
    "lcg = LCG(seed=1, a = 1601, c = 3456, m = 10000)\n",
    "random_num = lcg.uniform(0,1,10000)\n",
    "x = np.linspace(0,1, 1000)\n",
    "n_bins = 100\n",
    "\n",
    "plt.hist(random_num, bins=(np.arange(100)+0.5)/100)\n"
   ]
  },
  {
   "cell_type": "markdown",
   "metadata": {},
   "source": []
  }
 ],
 "metadata": {
  "interpreter": {
   "hash": "f1ed2457a2d6be20254494f3753e07bc3af07eff286f7356a384b8d24f581f90"
  },
  "kernelspec": {
   "display_name": "Python 3.10.4 ('smd')",
   "language": "python",
   "name": "python3"
  },
  "language_info": {
   "codemirror_mode": {
    "name": "ipython",
    "version": 3
   },
   "file_extension": ".py",
   "mimetype": "text/x-python",
   "name": "python",
   "nbconvert_exporter": "python",
   "pygments_lexer": "ipython3",
   "version": "3.10.4"
  },
  "orig_nbformat": 4
 },
 "nbformat": 4,
 "nbformat_minor": 2
}
