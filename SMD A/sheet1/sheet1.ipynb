{
 "cells": [
  {
   "cell_type": "code",
   "execution_count": 95,
   "source": [
    "import numpy as np"
   ],
   "outputs": [],
   "metadata": {}
  },
  {
   "cell_type": "markdown",
   "source": [
    "Blatt 1 Aufgabe 1\n"
   ],
   "metadata": {}
  },
  {
   "cell_type": "code",
   "execution_count": 96,
   "source": [
    "#Eine Output Methode ist für die eigentliche Berechnung nicht für Bedeutung\n",
    "output = (\"Auswertung\")    \n",
    "my_file = open(output + '.txt', \"w\")\n",
    "\n",
    "def writeW(Wert,Beschreibung):\n",
    "    my_file.write(str(Beschreibung))\n",
    "    #my_file.write('\\n')\n",
    "    try:\n",
    "        for i in Wert:\n",
    "            my_file.write(str(i))\n",
    "            my_file.write('\\n')\n",
    "    except:\n",
    "        my_file.write(str(Wert))\n",
    "        my_file.write('\\n')\n",
    "\n",
    "    return 0"
   ],
   "outputs": [],
   "metadata": {}
  },
  {
   "cell_type": "code",
   "execution_count": 97,
   "source": [
    "def f(x):\n",
    "    return (x**3 +1/3) - (x**3-1/3)\n",
    "\n",
    "def g(x):\n",
    "    return ((3+(x**3)/3) - (3-(x**3)/3))/x**3\n",
    "\n",
    "x  = np.logspace(0,100,10000)\n",
    "tmp = abs(2/3-f(x))\n",
    "writeW(None, \" Fehler von f(x) \")\n",
    "for i in range(0,10000):\n",
    "    writeW(x[i], \" x - Wert  \")\n",
    "    writeW(tmp[i],\"  Fehler  \")\n",
    "\n",
    "tmp2 = abs(2/3-g(x))\n",
    "writeW(None, \" Fehler von g(x) \")\n",
    "for i in range(0,10000):\n",
    "    writeW(x[i], \" x - Wert  \")\n",
    "    writeW(tmp2[i],\"  Fehler  \")\n",
    "\n",
    "\n",
    "#writeW(abs(g(x)-2/3), \"g(x) Fehler zu 2/3\")"
   ],
   "outputs": [],
   "metadata": {}
  },
  {
   "cell_type": "markdown",
   "source": [
    "x - Wert  39852.91069556272\n",
    "\n",
    "Fehler  0.00520833333333337\n",
    "\n",
    "x - Wert  40781.29814845226\n",
    "\n",
    "Fehler  0.00520833333333337 <-----\n",
    "\n",
    "x - Wert  41731.31271082112 <-----\n",
    "\n",
    "Fehler  0.01041666666666663\n",
    "\n",
    "x - Wert  42703.45819372692\n",
    "\n",
    "Fehler  0.01041666666666663\n",
    "\n",
    "Also ab x = 41731.31 ist der größer als 1% für f(x)\n",
    "\n",
    "Irgendwas geht nach  x - Wert  6.456259800254476e+99 kaputt. Bis dahin ist g(x) aber stabil und der numerische Wert ist nie gleich null.\n",
    "\n",
    "Ab den folgenden Werten ist der numerische Wert gleich null, also die Abweichung 2/3.\n",
    "x - Wert  166158.3045958256\n",
    "Fehler  0.6666666666666666\n",
    "\n"
   ],
   "metadata": {}
  },
  {
   "cell_type": "code",
   "execution_count": 98,
   "source": [
    "x_32  = np.logspace(0,10,10000, dtype='float32')\n",
    "tmp_32 = abs(2/3-f(x_32))\n",
    "writeW(None, \" Fehler von f(x) 32 \")\n",
    "for i in range(0,10000):\n",
    "    writeW(x_32[i], \" x - Wert  \")\n",
    "    writeW(tmp_32[i],\"  Fehler  \")\n",
    "\n",
    "tmp2_32 = abs(2/3-g(x))\n",
    "writeW(None, \" Fehler von g(x) 64 \")\n",
    "for i in range(0,10000):\n",
    "    writeW(x_32[i], \" x - Wert  \")\n",
    "    writeW(tmp2_32[i],\"  Fehler  \")\n"
   ],
   "outputs": [],
   "metadata": {}
  },
  {
   "cell_type": "markdown",
   "source": [
    "Die obere Grenze des logspace wurde verringert, da es sonst einen Overflow gibt. \n",
    "\n",
    "Die folgenden Werte ist der erste x Wert bei dem die Abweichung von f(x) über 1% liegt. \n",
    "\n",
    "x - Wert  50.83591\n",
    "\n",
    "Fehler  0.010416687\n",
    "\n",
    "g(x) ist numerisch stabil."
   ],
   "metadata": {}
  },
  {
   "cell_type": "code",
   "execution_count": 99,
   "source": [
    "x_64  = np.logspace(0,100,10000, dtype='float64')\n",
    "tmp_64 = abs(2/3-f(x_64))\n",
    "writeW(None, \" Fehler von f(x) 64 \")\n",
    "for i in range(0,10000):\n",
    "    writeW(x_64[i], \" x - Wert  \")\n",
    "    writeW(tmp_64[i],\"  Fehler  \")\n",
    "\n",
    "tmp2_64 = abs(2/3-g(x))\n",
    "writeW(None, \" Fehler von g(x) 64\")\n",
    "for i in range(0,10000):\n",
    "    writeW(x_64[i], \" x - Wert  \")\n",
    "    writeW(tmp2_64[i],\"  Fehler  \")"
   ],
   "outputs": [],
   "metadata": {}
  },
  {
   "cell_type": "markdown",
   "source": [
    "x - Wert  41731.31271082112 ist der erste Wert bei dem der Fehler über 1% liegt. Der Exakte Wert ist 0.01041666666666663.\n",
    "\n",
    "166158.3045958256 ist der erste x Wert, bei dem der Fehler bei 0.6666666666666666 liegt, was bedeutet, dass der numerische Wert bei null liegt. Man erkannt, dass bei einem 64-float deutlich mehr Nachkommastellen zu "
   ],
   "metadata": {}
  },
  {
   "cell_type": "markdown",
   "source": [],
   "metadata": {}
  }
 ],
 "metadata": {
  "interpreter": {
   "hash": "9b05f462df9fea5a899341c7050296a3a7cd088c202ddeba312e0e585ca71f24"
  },
  "kernelspec": {
   "name": "python3",
   "display_name": "Python 3.8.8 64-bit ('base': conda)"
  },
  "language_info": {
   "codemirror_mode": {
    "name": "ipython",
    "version": 3
   },
   "file_extension": ".py",
   "mimetype": "text/x-python",
   "name": "python",
   "nbconvert_exporter": "python",
   "pygments_lexer": "ipython3",
   "version": "3.8.8"
  },
  "orig_nbformat": 4
 },
 "nbformat": 4,
 "nbformat_minor": 2
}