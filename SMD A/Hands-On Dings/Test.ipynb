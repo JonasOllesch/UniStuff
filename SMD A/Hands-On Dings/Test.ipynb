{
 "cells": [
  {
   "cell_type": "markdown",
   "source": [
    "## Geht das so?\n",
    "\n",
    "Bla bla bla"
   ],
   "metadata": {}
  },
  {
   "cell_type": "code",
   "execution_count": 1,
   "source": [
    "import numpy as np\n"
   ],
   "outputs": [],
   "metadata": {}
  },
  {
   "cell_type": "markdown",
   "source": [
    "Toll"
   ],
   "metadata": {}
  }
 ],
 "metadata": {
  "kernelspec": {
   "name": "python3",
   "display_name": "Python 3.8.8 64-bit ('base': conda)"
  },
  "language_info": {
   "codemirror_mode": {
    "name": "ipython",
    "version": 3
   },
   "file_extension": ".py",
   "mimetype": "text/x-python",
   "name": "python",
   "nbconvert_exporter": "python",
   "pygments_lexer": "ipython3",
   "version": "3.8.8"
  },
  "interpreter": {
   "hash": "9b05f462df9fea5a899341c7050296a3a7cd088c202ddeba312e0e585ca71f24"
  }
 },
 "nbformat": 4,
 "nbformat_minor": 5
}