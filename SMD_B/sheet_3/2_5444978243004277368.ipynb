{
 "cells": [
  {
   "cell_type": "code",
   "execution_count": null,
   "source": [
    "import pandas as pnd\n",
    "import matplotlib.pyplot as plt\n",
    "import numpy as np\n",
    "from numpy.linalg import inv\n",
    "from numpy.polynomial import Polynomial\n"
   ],
   "outputs": [],
   "metadata": {
    "collapsed": true
   }
  },
  {
   "cell_type": "code",
   "execution_count": null,
   "source": [
    "#a\n",
    "ex_a_dataframe = pnd.read_csv('ex_a.csv')\n",
    "ex_a = ex_a_dataframe.to_numpy()\n",
    "ex_a_x = ex_a[:, 0]\n",
    "ex_a_y = ex_a[:, 1]\n"
   ],
   "outputs": [],
   "metadata": {
    "collapsed": false
   }
  },
  {
   "cell_type": "code",
   "execution_count": null,
   "source": [
    "ex_a_fit = Polynomial.fit(ex_a_x, ex_a_y, 6)\n",
    "#A = ex_a_fit.coef\n",
    "#A_t =A[np.newaxis]\n",
    "#A_t = np.transpose(A_t)\n",
    "#print(A_t)\n",
    "print('fitting_polynomial is ', ex_a_fit)"
   ],
   "outputs": [],
   "metadata": {
    "collapsed": false
   }
  },
  {
   "cell_type": "code",
   "execution_count": null,
   "source": [
    "x_a_fit, y_a_fit = ex_a_fit.linspace()\n",
    "plt.plot(x_a_fit, y_a_fit, 'g')\n",
    "plt.scatter(ex_a_x, ex_a_y)"
   ],
   "outputs": [],
   "metadata": {
    "collapsed": false
   }
  },
  {
   "cell_type": "code",
   "execution_count": null,
   "source": [
    "#c\n",
    "ex_c_dataframe = pnd.read_csv('ex_c.csv')\n",
    "ex_c = ex_c_dataframe.to_numpy()\n",
    "ex_c_x = ex_c[:, 0]\n",
    "ex_c_y_all = (ex_c[:, 1:51])\n",
    "ex_c_y = np.mean(ex_c_y_all, axis=1)\n",
    "#print(ex_c_y)\n",
    "\n",
    "#print(np.size(ex_c_x), np.size(ex_c_y))"
   ],
   "outputs": [],
   "metadata": {
    "collapsed": false
   }
  },
  {
   "cell_type": "code",
   "execution_count": null,
   "source": [
    "#plt.scatter(ex_c_x, ex_c_y)"
   ],
   "outputs": [],
   "metadata": {
    "collapsed": false
   }
  },
  {
   "cell_type": "code",
   "execution_count": null,
   "source": [
    "ex_c_fit = Polynomial.fit(ex_c_x, ex_c_y, 6)\n",
    "x_c_fit, y_c_fit = ex_c_fit.linspace()\n",
    "plt.plot(x_c_fit, y_c_fit, 'g')\n",
    "plt.scatter(ex_c_x, ex_c_y)\n"
   ],
   "outputs": [],
   "metadata": {
    "collapsed": false
   }
  },
  {
   "cell_type": "code",
   "execution_count": null,
   "source": [
    "#b\n",
    "\n",
    "\n",
    "\n",
    "C = np.eye(7, k=1) - 2*np.eye(7) + np.eye(7, k=-1)\n",
    "C[0,0] = -1\n",
    "C[6,6] = -1\n",
    "lambd = 10\n",
    "\n",
    "funcs = [np.ones_like, x, x**2,x**3, x**4,x**5, x**6]\n",
    "def jacobi_matrix(funcs, x):\n",
    "    '''Create the design matrix for a linear least squares problem'''\n",
    "    return np.column_stack([f(x) for f in funcs])\n",
    "\n",
    "\n",
    "A = jacobi_matrix(funcs, ex_a_x)\n",
    "print(\"Jacobi Matrix\",A)\n",
    "#A[:5]\n",
    "A_t = np.transpose(A)\n",
    "\n",
    "\n",
    "CA = np.matmul(C, A)\n",
    "CA_t = np.transpose(CA)\n",
    "CA_2 = lambd*np.matmul(CA_t, CA)\n",
    "\n",
    "AA = np.matmul(A_t,A)\n",
    "A_temp = 1 / (AA + CA_2)\n",
    "#print(A_temp)\n",
    "a_reg = np.flipud(A_temp*A_t)\n",
    "\n",
    "#print(a_reg)\n",
    "a_reg = np.squeeze(a_reg)\n",
    "#for i in range(0, 6):\n",
    "#    a_reg[i] = a_reg[i]*ex_a_fit.coef[i]\n",
    "\n",
    "polynom = Polynomial(a_reg)\n",
    "\n",
    "print(polynom)\n"
   ],
   "outputs": [],
   "metadata": {
    "collapsed": false
   }
  },
  {
   "cell_type": "code",
   "execution_count": null,
   "source": [
    "x_a_reg, y_a_reg = polynom.linspace()\n",
    "plt.plot(x_a_reg, y_a_reg, 'g')\n",
    "plt.scatter(ex_a_x, ex_a_y)"
   ],
   "outputs": [],
   "metadata": {
    "collapsed": false
   }
  },
  {
   "cell_type": "code",
   "execution_count": null,
   "source": [],
   "outputs": [],
   "metadata": {
    "collapsed": false
   }
  }
 ],
 "metadata": {
  "kernelspec": {
   "name": "python3",
   "display_name": "Python 3.10.4 64-bit (conda)"
  },
  "language_info": {
   "name": "python",
   "version": "3.10.4",
   "mimetype": "text/x-python",
   "codemirror_mode": {
    "name": "ipython",
    "version": 3
   },
   "pygments_lexer": "ipython3",
   "nbconvert_exporter": "python",
   "file_extension": ".py"
  },
  "interpreter": {
   "hash": "3da3aacf6f67b663b853a93bec1a23fef04a77eb554c95bbf0056ee058f5941d"
  }
 },
 "nbformat": 4,
 "nbformat_minor": 2
}