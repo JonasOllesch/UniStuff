{
 "cells": [
  {
   "cell_type": "code",
   "execution_count": null,
   "metadata": {
    "collapsed": true
   },
   "outputs": [],
   "source": [
    "import pandas as pnd\n",
    "import matplotlib.pyplot as plt\n",
    "import numpy as np\n",
    "from numpy.polynomial import Polynomial\n",
    "#a\n",
    "ex_a_dataframe = pnd.read_csv('ex_a.csv')\n",
    "ex_a = ex_a_dataframe.to_numpy()\n",
    "ex_a_x = ex_a[:, 0]\n",
    "ex_a_y = ex_a[:, 1]\n",
    "\n",
    "ex_a_fit = Polynomial.fit(ex_a_x, ex_a_y, 6)\n",
    "\n",
    "print('fitting_polynomial is ', ex_a_fit)\n",
    "x_a_fit, y_a_fit = ex_a_fit.linspace()\n",
    "plt.plot(x_a_fit, y_a_fit, 'g')\n",
    "plt.scatter(ex_a_x, ex_a_y)\n",
    "#c\n",
    "ex_c_dataframe = pnd.read_csv('ex_c.csv')\n",
    "ex_c = ex_c_dataframe.to_numpy()\n",
    "ex_c_x = ex_c[:, 0]\n",
    "ex_c_y_all = (ex_c[:, 1:51])\n",
    "ex_c_y = np.mean(ex_c_y_all, axis=1)\n",
    "#print(ex_c_y)\n",
    "\n",
    "#print(np.size(ex_c_x), np.size(ex_c_y))\n",
    "plt.scatter(ex_c_x, ex_c_y)\n",
    "ex_c_fit = Polynomial.fit(ex_c_x, ex_c_y, 6)\n",
    "x_c_fit, y_c_fit = ex_c_fit.linspace()\n",
    "plt.plot(x_c_fit, y_c_fit, 'g')\n",
    "plt.scatter(ex_c_x, ex_c_y)\n"
   ]
  },
  {
   "cell_type": "code",
   "execution_count": null,
   "metadata": {
    "collapsed": false
   },
   "outputs": [],
   "source": []
  }
 ],
 "metadata": {
  "kernelspec": {
   "display_name": "Python 3",
   "language": "python",
   "name": "python3"
  },
  "language_info": {
   "codemirror_mode": {
    "name": "ipython",
    "version": 2
   },
   "file_extension": ".py",
   "mimetype": "text/x-python",
   "name": "python",
   "nbconvert_exporter": "python",
   "pygments_lexer": "ipython2",
   "version": "2.7.6"
  }
 },
 "nbformat": 4,
 "nbformat_minor": 0
}
