{
 "cells": [
  {
   "cell_type": "code",
   "execution_count": 35,
   "source": [
    "import numpy as np\n",
    "np.random.seed(42)"
   ],
   "outputs": [],
   "metadata": {
    "collapsed": true
   }
  },
  {
   "cell_type": "code",
   "execution_count": 36,
   "source": [
    "#a the Poisson distribution tends to Gauss if µ = lambda and sigma^2 = lambda"
   ],
   "outputs": [],
   "metadata": {
    "collapsed": false
   }
  },
  {
   "cell_type": "code",
   "execution_count": 37,
   "source": [
    "#b \n",
    "#the ecdf is calculated by summing over all lower values of x \n",
    "def cdf(sample, x, sort = False):\n",
    "    if sort:\n",
    "        sample.sort()\n",
    "    cdf = sum(sample <= x)\n",
    "    cdf = cdf / len(sample)\n",
    "    return cdf"
   ],
   "outputs": [],
   "metadata": {
    "collapsed": false
   }
  },
  {
   "cell_type": "markdown",
   "source": [],
   "metadata": {
    "collapsed": false
   }
  },
  {
   "cell_type": "code",
   "execution_count": 38,
   "source": [
    "# we define the function that actually performs the Kolmogorov–Smirnov test\n",
    "def ks_2samp(sample1, sample2, alpha):\n",
    "    observations = np.concatenate((sample1, sample2))\n",
    "    D_ks = []\n",
    "    k = np.sqrt(-np.log(alpha/2)/2)\n",
    "    for x in observations:\n",
    "        cdf_sample1 = cdf(sample = sample1, x  = x)\n",
    "        cdf_sample2 = cdf(sample = sample2, x  = x)\n",
    "        D_ks.append(abs(cdf_sample1 - cdf_sample2))\n",
    "    ks_stat = max(D_ks)\n",
    "    m, n = int(len(sample1)), int(len(sample2))\n",
    "    en = np.sqrt(m*n/(m+n))\n",
    "    d = en*ks_stat\n",
    "    if d <= k:\n",
    "        result = \"proved\"\n",
    "    else:\n",
    "        result = \"rejected\"\n",
    "    return ks_stat, d, k, result"
   ],
   "outputs": [],
   "metadata": {
    "collapsed": false
   }
  },
  {
   "cell_type": "code",
   "execution_count": 39,
   "source": [
    "#s1 = np.random.normal(loc=0, scale=1.0, size=100)\n",
    "#s2 = np.random.normal(loc=0, scale=1.0, size=100)\n",
    "#print(ks_2samp(s1, s2, 0.3))"
   ],
   "outputs": [],
   "metadata": {
    "collapsed": false
   }
  },
  {
   "cell_type": "code",
   "execution_count": 40,
   "source": [
    "#c\n",
    "alpha = 0.005\n",
    "l=1\n",
    "np.random.seed(42)\n",
    "\n",
    "while 1:\n",
    "    gauss = np.random.normal(loc=l, scale=np.sqrt((l)), size=10000)\n",
    "    gauss_bin = np.histogram(gauss, 100, range = (l-5*np.sqrt(l), l+5*np.sqrt(l)))\n",
    "    gauss_bin_1 = gauss_bin[0]\n",
    "    poisson = np.random.poisson(l, 10000)\n",
    "    poisson_bin = np.histogram(poisson, 100, range = (l-5*np.sqrt(l), l+5*np.sqrt(l)))\n",
    "    poisson_bin_1 = poisson_bin[0]\n",
    "    ks = ks_2samp(gauss_bin_1, poisson_bin_1, alpha)\n",
    "    if ks[3] == 'proved':\n",
    "        break\n",
    "    l = l+1\n",
    "\n",
    "print('lambda = ', l)\n",
    "# the first lambda where the hypothesis is accepted is lambda = 33"
   ],
   "outputs": [
    {
     "output_type": "stream",
     "name": "stdout",
     "text": [
      "lambda =  33\n"
     ]
    }
   ],
   "metadata": {
    "collapsed": false
   }
  },
  {
   "cell_type": "code",
   "execution_count": 41,
   "source": [
    "#d\n",
    "np.random.seed(42)\n",
    "\n",
    "alpha = [0.025, 0.0001]\n",
    "l=1\n",
    "while 1:\n",
    "    gauss = np.random.normal(loc=l, scale=np.sqrt((l)), size=10000)\n",
    "    gauss_bin = np.histogram(gauss, 100, range = (l-5*np.sqrt(l), l+5*np.sqrt(l)))\n",
    "    gauss_bin_1 = gauss_bin[0]\n",
    "    poisson = np.random.poisson(l, 10000)\n",
    "    poisson_bin = np.histogram(poisson, 100, range = (l-5*np.sqrt(l), l+5*np.sqrt(l)))\n",
    "    poisson_bin_1 = poisson_bin[0]\n",
    "    ks = ks_2samp(gauss_bin_1, poisson_bin_1, 0.025)\n",
    "    if ks[3] == 'proved':\n",
    "        break\n",
    "    l = l+1\n",
    "print('lambda = ', l)\n",
    "\n",
    "\n",
    "l=1\n",
    "while 1:\n",
    "    gauss = np.random.normal(loc=l, scale=np.sqrt((l)), size=10000)\n",
    "    gauss_bin = np.histogram(gauss, 100, range = (l-5*np.sqrt(l), l+5*np.sqrt(l)))\n",
    "    gauss_bin_1 = gauss_bin[0]\n",
    "    poisson = np.random.poisson(l, 10000)\n",
    "    poisson_bin = np.histogram(poisson, 100, range = (l-5*np.sqrt(l), l+5*np.sqrt(l)))\n",
    "    poisson_bin_1 = poisson_bin[0]\n",
    "    ks = ks_2samp(gauss_bin_1, poisson_bin_1, 0.0001)\n",
    "    if ks[3] == 'proved':\n",
    "        break\n",
    "    l = l+1\n",
    "print('lambda = ', l)\n",
    " \n",
    "    \n",
    "#for a = 0.025 we get 44 and\n",
    "#for a = 0.0001 we get 28 for the first value for lambda where the hypothesis is accepted.\n",
    "    "
   ],
   "outputs": [
    {
     "output_type": "stream",
     "name": "stdout",
     "text": [
      "lambda =  44\n",
      "lambda =  28\n"
     ]
    }
   ],
   "metadata": {
    "collapsed": false
   }
  }
 ],
 "metadata": {
  "kernelspec": {
   "name": "python3",
   "display_name": "Python 3.10.4 64-bit (conda)"
  },
  "language_info": {
   "name": "python",
   "version": "3.10.4",
   "mimetype": "text/x-python",
   "codemirror_mode": {
    "name": "ipython",
    "version": 3
   },
   "pygments_lexer": "ipython3",
   "nbconvert_exporter": "python",
   "file_extension": ".py"
  },
  "interpreter": {
   "hash": "3da3aacf6f67b663b853a93bec1a23fef04a77eb554c95bbf0056ee058f5941d"
  }
 },
 "nbformat": 4,
 "nbformat_minor": 2
}