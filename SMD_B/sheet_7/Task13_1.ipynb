{
 "cells": [
  {
   "cell_type": "code",
   "execution_count": 1,
   "metadata": {
    "collapsed": true
   },
   "outputs": [],
   "source": [
    "import numpy as np\n",
    "np.random.seed(42)"
   ]
  },
  {
   "cell_type": "code",
   "execution_count": 2,
   "metadata": {
    "collapsed": false
   },
   "outputs": [],
   "source": [
    "#a the Poisson distribution tends to Gauss if µ = lambda and sigma^2 = lambda"
   ]
  },
  {
   "cell_type": "code",
   "execution_count": 3,
   "metadata": {
    "collapsed": false
   },
   "outputs": [],
   "source": [
    "#b \n",
    "#the ecdf is calculated by summing over all lower values of x \n",
    "def cdf(sample, x, sort = False):\n",
    "    if sort:\n",
    "        sample.sort()\n",
    "    cdf = sum(sample <= x)\n",
    "    cdf = cdf / len(sample)\n",
    "    return cdf"
   ]
  },
  {
   "cell_type": "markdown",
   "metadata": {
    "collapsed": false
   },
   "source": []
  },
  {
   "cell_type": "code",
   "execution_count": 4,
   "metadata": {
    "collapsed": false
   },
   "outputs": [],
   "source": [
    "# we define the function that actually performs the Kolmogorov–Smirnov test\n",
    "def ks_2samp(sample1, sample2, alpha):\n",
    "    observations = np.concatenate((sample1, sample2))\n",
    "    D_ks = []\n",
    "    k = np.sqrt(-np.log(alpha/2)/2)\n",
    "    for x in observations:\n",
    "        cdf_sample1 = cdf(sample = sample1, x  = x)\n",
    "        cdf_sample2 = cdf(sample = sample2, x  = x)\n",
    "        D_ks.append(abs(cdf_sample1 - cdf_sample2))\n",
    "    ks_stat = max(D_ks)\n",
    "    m, n = int(len(sample1)), int(len(sample2))\n",
    "    en = np.sqrt(m*n/(m+n))\n",
    "    d = en*ks_stat\n",
    "    if d <= k:\n",
    "        result = \"proved\"\n",
    "    else:\n",
    "        result = \"rejected\"\n",
    "    return ks_stat, d, k, result"
   ]
  },
  {
   "cell_type": "code",
   "execution_count": 5,
   "metadata": {
    "collapsed": false
   },
   "outputs": [],
   "source": [
    "#s1 = np.random.normal(loc=0, scale=1.0, size=100)\n",
    "#s2 = np.random.normal(loc=0, scale=1.0, size=100)\n",
    "#print(ks_2samp(s1, s2, 0.3))"
   ]
  },
  {
   "cell_type": "code",
   "execution_count": 6,
   "metadata": {
    "collapsed": false
   },
   "outputs": [
    {
     "name": "stdout",
     "output_type": "stream",
     "text": [
      "lambda =  33\n"
     ]
    }
   ],
   "source": [
    "#c\n",
    "alpha = 0.005\n",
    "l=1\n",
    "np.random.seed(42)\n",
    "\n",
    "while 1:\n",
    "    gauss = np.random.normal(loc=l, scale=np.sqrt((l)), size=10000)\n",
    "    gauss_bin = np.histogram(gauss, 100, range = (l-5*np.sqrt(l), l+5*np.sqrt(l)))\n",
    "    gauss_bin_1 = gauss_bin[0]\n",
    "    poisson = np.random.poisson(l, 10000)\n",
    "    poisson_bin = np.histogram(poisson, 100, range = (l-5*np.sqrt(l), l+5*np.sqrt(l)))\n",
    "    poisson_bin_1 = poisson_bin[0]\n",
    "    ks = ks_2samp(gauss_bin_1, poisson_bin_1, alpha)\n",
    "    if ks[3] == 'proved':\n",
    "        break\n",
    "    l = l+1\n",
    "\n",
    "print('lambda = ', l)\n",
    "# the first lambda where the hypothesis is accepted is lambda = 33"
   ]
  },
  {
   "cell_type": "code",
   "execution_count": 7,
   "metadata": {
    "collapsed": false
   },
   "outputs": [
    {
     "name": "stdout",
     "output_type": "stream",
     "text": [
      "lambda =  44\n",
      "lambda =  28\n"
     ]
    }
   ],
   "source": [
    "#d\n",
    "np.random.seed(42)\n",
    "\n",
    "alpha = [0.025, 0.0001]\n",
    "l=1\n",
    "while 1:\n",
    "    gauss = np.random.normal(loc=l, scale=np.sqrt((l)), size=10000)\n",
    "    gauss_bin = np.histogram(gauss, 100, range = (l-5*np.sqrt(l), l+5*np.sqrt(l)))\n",
    "    gauss_bin_1 = gauss_bin[0]\n",
    "    poisson = np.random.poisson(l, 10000)\n",
    "    poisson_bin = np.histogram(poisson, 100, range = (l-5*np.sqrt(l), l+5*np.sqrt(l)))\n",
    "    poisson_bin_1 = poisson_bin[0]\n",
    "    ks = ks_2samp(gauss_bin_1, poisson_bin_1, 0.025)\n",
    "    if ks[3] == 'proved':\n",
    "        break\n",
    "    l = l+1\n",
    "print('lambda = ', l)\n",
    "\n",
    "\n",
    "l=1\n",
    "while 1:\n",
    "    gauss = np.random.normal(loc=l, scale=np.sqrt((l)), size=10000)\n",
    "    gauss_bin = np.histogram(gauss, 100, range = (l-5*np.sqrt(l), l+5*np.sqrt(l)))\n",
    "    gauss_bin_1 = gauss_bin[0]\n",
    "    poisson = np.random.poisson(l, 10000)\n",
    "    poisson_bin = np.histogram(poisson, 100, range = (l-5*np.sqrt(l), l+5*np.sqrt(l)))\n",
    "    poisson_bin_1 = poisson_bin[0]\n",
    "    ks = ks_2samp(gauss_bin_1, poisson_bin_1, 0.0001)\n",
    "    if ks[3] == 'proved':\n",
    "        break\n",
    "    l = l+1\n",
    "print('lambda = ', l)\n",
    " \n",
    "    \n",
    "#for a = 0.025 we get 44 and\n",
    "#for a = 0.0001 we get 28 for the first value for lambda where the hypothesis is accepted.\n",
    "    "
   ]
  }
 ],
 "metadata": {
  "kernelspec": {
   "display_name": "Python 3.10.8 ('smd')",
   "language": "python",
   "name": "python3"
  },
  "language_info": {
   "codemirror_mode": {
    "name": "ipython",
    "version": 3
   },
   "file_extension": ".py",
   "mimetype": "text/x-python",
   "name": "python",
   "nbconvert_exporter": "python",
   "pygments_lexer": "ipython3",
   "version": "3.10.8"
  },
  "vscode": {
   "interpreter": {
    "hash": "f1ed2457a2d6be20254494f3753e07bc3af07eff286f7356a384b8d24f581f90"
   }
  }
 },
 "nbformat": 4,
 "nbformat_minor": 2
}
